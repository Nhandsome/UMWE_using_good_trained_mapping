{
 "cells": [
  {
   "cell_type": "code",
   "execution_count": 1,
   "metadata": {
    "executionInfo": {
     "elapsed": 1309,
     "status": "ok",
     "timestamp": 1613973837321,
     "user": {
      "displayName": "한범석",
      "photoUrl": "",
      "userId": "03208981693383898195"
     },
     "user_tz": -540
    },
    "id": "aBs7SdrBP1dQ"
   },
   "outputs": [],
   "source": [
    "import pandas as pd"
   ]
  },
  {
   "cell_type": "code",
   "execution_count": 2,
   "metadata": {
    "executionInfo": {
     "elapsed": 543,
     "status": "ok",
     "timestamp": 1613974245527,
     "user": {
      "displayName": "한범석",
      "photoUrl": "",
      "userId": "03208981693383898195"
     },
     "user_tz": -540
    },
    "id": "LRJfSoBZRzxg"
   },
   "outputs": [],
   "source": [
    "def extract_words_by_freq(d,f,t):\n",
    "  temp = d['0_x'].unique().tolist()[f:t]\n",
    "  return temp\n",
    "\n",
    "def make_dict_by_freq(dict_f, dict_t, freq_f, freq_t):\n",
    "  temp = pd.merge(dict_f,dict_t,left_on=1,right_on=0)\n",
    "  temp = temp[['0_x','1_y']]\n",
    "  unique_list = extract_words_by_freq(temp, freq_f, freq_t)\n",
    "  return temp[temp['0_x'].isin(unique_list)].drop_duplicates()\n",
    "\n",
    "def make_s_dict_by_freq(dict_f):\n",
    "    t_1 = temp1[0].unique().tolist()[:5000]\n",
    "    r_1 = pd.DataFrame([t_1,t_1]).transpose()\n",
    "    t_2 = temp1[0].unique().tolist()[5000:6500]\n",
    "    r_2 = pd.DataFrame([t_2,t_2]).transpose()\n",
    "    return r_1, r_2\n",
    "\n",
    "def make_dict_l1_en_l2(dict_l1, dict_l2, freq_f, freq_t):\n",
    "  temp = pd.merge(dict_l1,dict_l2,left_on=1,right_on=0)\n",
    "  return temp\n",
    "  # temp = temp[['0_x','1_y']]\n",
    "  # unique_list = extract_words_by_freq(temp, freq_f, freq_t)\n",
    "  # return temp[temp['0_x'].isin(unique_list)].drop_duplicates()"
   ]
  },
  {
   "cell_type": "markdown",
   "metadata": {
    "id": "1DDI2WipVnJd"
   },
   "source": [
    "## Create new XX-YY dictionary from XX-EN and EN-YY dictionaries."
   ]
  },
  {
   "cell_type": "code",
   "execution_count": 36,
   "metadata": {
    "id": "kaQdZdb1dxzk"
   },
   "outputs": [],
   "source": [
    "# Set 'from' and 'to' languages for dictionary.\n",
    "f = 'zh'\n",
    "t = 'de'"
   ]
  },
  {
   "cell_type": "code",
   "execution_count": 39,
   "metadata": {
    "id": "BkENbIXIP1Ze"
   },
   "outputs": [],
   "source": [
    "# Load dictionary information \\t\n",
    "temp1 = pd.read_csv(f'../data/crosslingual/dictionaries/{f}-en.txt', sep=' ',header=None)\n",
    "temp2 = pd.read_csv(f'../data/crosslingual/dictionaries/en-{t}.txt', sep=' ',header=None)"
   ]
  },
  {
   "cell_type": "code",
   "execution_count": 40,
   "metadata": {},
   "outputs": [
    {
     "name": "stdout",
     "output_type": "stream",
     "text": [
      "   0        1\n",
      "0  年     year\n",
      "1  月     moon\n",
      "2  月   months\n",
      "3  月    month\n",
      "4  日      day\n",
      "5  和      and\n",
      "6  村  village\n",
      "7  人      man\n",
      "8  人   people\n",
      "9  %        %\n",
      "     0      1\n",
      "0  the    die\n",
      "1  the    der\n",
      "2  the    dem\n",
      "3  the    den\n",
      "4  the    das\n",
      "5  and  sowie\n",
      "6  and    und\n",
      "7  was    war\n",
      "8  was  wurde\n",
      "9  for    für\n"
     ]
    }
   ],
   "source": [
    "# Please Check sep parameter, the parameter should be changed depending on the dataset\n",
    "print(temp1[:10])\n",
    "print(temp2[:10])"
   ]
  },
  {
   "cell_type": "code",
   "execution_count": 41,
   "metadata": {},
   "outputs": [],
   "source": [
    "# Because I do not want to use identical words as dictionary information,\n",
    "# Extract infromation having different words\n",
    "temp1 = temp1[temp1[0]!=temp1[1]]\n",
    "temp2 = temp2[temp2[0]!=temp2[1]]"
   ]
  },
  {
   "cell_type": "code",
   "execution_count": 42,
   "metadata": {
    "colab": {
     "base_uri": "https://localhost:8080/"
    },
    "executionInfo": {
     "elapsed": 603,
     "status": "ok",
     "timestamp": 1610634375230,
     "user": {
      "displayName": "한범석",
      "photoUrl": "",
      "userId": "03208981693383898195"
     },
     "user_tz": -540
    },
    "id": "HLbJs-EsRCe-",
    "outputId": "f9ae90fa-8f98-4d55-a849-102262b9517b"
   },
   "outputs": [
    {
     "name": "stdout",
     "output_type": "stream",
     "text": [
      "      0          1\n",
      "0     年       year\n",
      "1     月       moon\n",
      "2     月     months\n",
      "3     月      month\n",
      "4     日        day\n",
      "5     和        and\n",
      "6     村    village\n",
      "7     人        man\n",
      "8     人     people\n",
      "10  小行星  asteroids\n",
      "     0      1\n",
      "0  the    die\n",
      "1  the    der\n",
      "2  the    dem\n",
      "3  the    den\n",
      "4  the    das\n",
      "5  and  sowie\n",
      "6  and    und\n",
      "7  was    war\n",
      "8  was  wurde\n",
      "9  for    für\n"
     ]
    }
   ],
   "source": [
    "# Check dataframes\n",
    "print(temp1[:10])\n",
    "print(temp2[:10])"
   ]
  },
  {
   "cell_type": "code",
   "execution_count": 43,
   "metadata": {},
   "outputs": [],
   "source": [
    "# Drop rows including NaN value.\n",
    "# It will make error when we train CWE models\n",
    "temp1.dropna(axis=0,inplace=True)\n",
    "temp2.dropna(axis=0,inplace=True)"
   ]
  },
  {
   "cell_type": "code",
   "execution_count": 44,
   "metadata": {
    "id": "Sfu1OPLdP1Vc"
   },
   "outputs": [],
   "source": [
    "# Join the datasets\n",
    "# I will use frequenly used words(0~5000) as traiing set\n",
    "# and from 5000 to 6500 as evaluate set\n",
    "t1 = make_dict_by_freq(temp1,temp2,0,5000)\n",
    "t2 = make_dict_by_freq(temp1,temp2,5000,6500)"
   ]
  },
  {
   "cell_type": "code",
   "execution_count": 45,
   "metadata": {},
   "outputs": [
    {
     "name": "stdout",
     "output_type": "stream",
     "text": [
      "0_x    0\n",
      "1_y    0\n",
      "dtype: int64\n",
      "0_x    0\n",
      "1_y    0\n",
      "dtype: int64\n"
     ]
    }
   ],
   "source": [
    "# Check there is no NaN values\n",
    "print(t1.isnull().sum())\n",
    "print(t2.isnull().sum())"
   ]
  },
  {
   "cell_type": "code",
   "execution_count": 46,
   "metadata": {
    "id": "c2MWhHBZP1Lj"
   },
   "outputs": [],
   "source": [
    "# Save the created datasets\n",
    "t1.to_csv(f'../data/crosslingual/dictionaries/{f}-{t}.0-5000.txt',header=None,index=False,sep='\\t')\n",
    "t2.to_csv(f'../data/crosslingual/dictionaries/{f}-{t}.5000-6500.txt',header=None,index=False,sep='\\t')"
   ]
  },
  {
   "cell_type": "code",
   "execution_count": 46,
   "metadata": {},
   "outputs": [
    {
     "data": {
      "text/html": [
       "<div>\n",
       "<style scoped>\n",
       "    .dataframe tbody tr th:only-of-type {\n",
       "        vertical-align: middle;\n",
       "    }\n",
       "\n",
       "    .dataframe tbody tr th {\n",
       "        vertical-align: top;\n",
       "    }\n",
       "\n",
       "    .dataframe thead th {\n",
       "        text-align: right;\n",
       "    }\n",
       "</style>\n",
       "<table border=\"1\" class=\"dataframe\">\n",
       "  <thead>\n",
       "    <tr style=\"text-align: right;\">\n",
       "      <th></th>\n",
       "      <th>0_x</th>\n",
       "      <th>1_y</th>\n",
       "    </tr>\n",
       "  </thead>\n",
       "  <tbody>\n",
       "    <tr>\n",
       "      <th>12058</th>\n",
       "      <td>éteinte</td>\n",
       "      <td>滅絕</td>\n",
       "    </tr>\n",
       "    <tr>\n",
       "      <th>12059</th>\n",
       "      <td>éteints</td>\n",
       "      <td>滅絕</td>\n",
       "    </tr>\n",
       "    <tr>\n",
       "      <th>12060</th>\n",
       "      <td>exprimer</td>\n",
       "      <td>快車</td>\n",
       "    </tr>\n",
       "    <tr>\n",
       "      <th>12061</th>\n",
       "      <td>exprimer</td>\n",
       "      <td>明示</td>\n",
       "    </tr>\n",
       "    <tr>\n",
       "      <th>12062</th>\n",
       "      <td>exprimer</td>\n",
       "      <td>特快</td>\n",
       "    </tr>\n",
       "  </tbody>\n",
       "</table>\n",
       "</div>"
      ],
      "text/plain": [
       "            0_x 1_y\n",
       "12058   éteinte  滅絕\n",
       "12059   éteints  滅絕\n",
       "12060  exprimer  快車\n",
       "12061  exprimer  明示\n",
       "12062  exprimer  特快"
      ]
     },
     "execution_count": 46,
     "metadata": {},
     "output_type": "execute_result"
    }
   ],
   "source": []
  },
  {
   "cell_type": "code",
   "execution_count": null,
   "metadata": {},
   "outputs": [],
   "source": []
  }
 ],
 "metadata": {
  "colab": {
   "authorship_tag": "ABX9TyPolD9fhaDv57Gms1I+cs5S",
   "collapsed_sections": [],
   "name": "preprocess_make_dict.ipynb",
   "provenance": []
  },
  "kernelspec": {
   "display_name": "Python 3",
   "language": "python",
   "name": "python3"
  },
  "language_info": {
   "codemirror_mode": {
    "name": "ipython",
    "version": 3
   },
   "file_extension": ".py",
   "mimetype": "text/x-python",
   "name": "python",
   "nbconvert_exporter": "python",
   "pygments_lexer": "ipython3",
   "version": "3.8.5"
  }
 },
 "nbformat": 4,
 "nbformat_minor": 1
}
