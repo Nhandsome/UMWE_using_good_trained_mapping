{
 "cells": [
  {
   "cell_type": "code",
   "execution_count": 1,
   "metadata": {},
   "outputs": [],
   "source": [
    "!python iternorm.py 'data/fasttext-vectors/jawiki_300d.txt' 'data/fasttext-vectors/jawiki_n_300d.txt'"
   ]
  },
  {
   "cell_type": "code",
   "execution_count": 2,
   "metadata": {},
   "outputs": [],
   "source": [
    "!python iternorm.py 'data/fasttext-vectors/frwiki_300d.txt' 'data/fasttext-vectors/frwiki_n_300d.txt'"
   ]
  },
  {
   "cell_type": "code",
   "execution_count": 3,
   "metadata": {},
   "outputs": [],
   "source": [
    "!python iternorm.py 'data/fasttext-vectors/enwiki_300d.txt' 'data/fasttext-vectors/enwiki_n_300d.txt'"
   ]
  },
  {
   "cell_type": "code",
   "execution_count": 1,
   "metadata": {},
   "outputs": [],
   "source": [
    "!python iternorm.py 'data/fasttext-vectors/wiki.ko.vec' 'data/fasttext-vectors/wiki_n.ko.vec'"
   ]
  },
  {
   "cell_type": "code",
   "execution_count": 1,
   "metadata": {},
   "outputs": [],
   "source": [
    "!python iternorm.py 'data/fasttext-vectors/wiki.de.vec' 'data/fasttext-vectors/wiki_n.de.vec'"
   ]
  },
  {
   "cell_type": "code",
   "execution_count": 2,
   "metadata": {},
   "outputs": [],
   "source": [
    "!python iternorm.py 'data/fasttext-vectors/wiki.it.vec' 'data/fasttext-vectors/wiki_n.it.vec'"
   ]
  },
  {
   "cell_type": "code",
   "execution_count": 3,
   "metadata": {},
   "outputs": [],
   "source": [
    "!python iternorm.py 'data/fasttext-vectors/wiki.es.vec' 'data/fasttext-vectors/wiki_n.es.vec'"
   ]
  },
  {
   "cell_type": "code",
   "execution_count": null,
   "metadata": {},
   "outputs": [],
   "source": []
  }
 ],
 "metadata": {
  "kernelspec": {
   "display_name": "Python (han)",
   "language": "python",
   "name": "han"
  },
  "language_info": {
   "codemirror_mode": {
    "name": "ipython",
    "version": 3
   },
   "file_extension": ".py",
   "mimetype": "text/x-python",
   "name": "python",
   "nbconvert_exporter": "python",
   "pygments_lexer": "ipython3",
   "version": "3.8.5"
  }
 },
 "nbformat": 4,
 "nbformat_minor": 2
}
