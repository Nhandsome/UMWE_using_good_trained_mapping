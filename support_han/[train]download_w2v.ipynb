{
 "cells": [
  {
   "cell_type": "code",
   "execution_count": 5,
   "metadata": {
    "colab": {
     "base_uri": "https://localhost:8080/"
    },
    "executionInfo": {
     "elapsed": 21131,
     "status": "ok",
     "timestamp": 1610454272752,
     "user": {
      "displayName": "한범석",
      "photoUrl": "",
      "userId": "03208981693383898195"
     },
     "user_tz": -540
    },
    "id": "fcUSBlUkqdcv",
    "outputId": "28954eb4-b36b-49e6-eaa5-c4496f239976"
   },
   "outputs": [
    {
     "name": "stdout",
     "output_type": "stream",
     "text": [
      "Mounted at /content/drive/\n",
      "/content/drive/My Drive/Google colab Save/umwe\n"
     ]
    }
   ],
   "source": [
    "from google.colab import drive \n",
    "drive.mount('/content/drive/')\n",
    "%cd /content/drive/My Drive/Google colab Save/umwe"
   ]
  },
  {
   "cell_type": "code",
   "execution_count": 4,
   "metadata": {
    "colab": {
     "base_uri": "https://localhost:8080/"
    },
    "executionInfo": {
     "elapsed": 32113,
     "status": "ok",
     "timestamp": 1610454436234,
     "user": {
      "displayName": "한범석",
      "photoUrl": "",
      "userId": "03208981693383898195"
     },
     "user_tz": -540
    },
    "id": "_UW2mOg5qZOu",
    "outputId": "22470846-ec81-4dd9-d4d7-c8fd1c8c01f5"
   },
   "outputs": [
    {
     "name": "stdout",
     "output_type": "stream",
     "text": [
      "  % Total    % Received % Xferd  Average Speed   Time    Time     Time  Current\n",
      "                                 Dload  Upload   Total   Spent    Left  Speed\n",
      "100 5689M  100 5689M    0     0  9429k      0  0:10:17  0:10:17 --:--:-- 11.2M  1  102M    0     0  5323k      0  0:18:14  0:00:19  0:17:55 5509k  0:02:22  0:14:25 5652k  0:06:22  0:05:23 11.2M6M    0     0  9045k      0  0:10:44  0:08:34  0:02:10 11.2M\n"
     ]
    }
   ],
   "source": [
    "!curl -Lo data/fasttext-vectors/wiki.de.vec https://dl.fbaipublicfiles.com/fasttext/vectors-wiki/wiki.de.vec"
   ]
  },
  {
   "cell_type": "code",
   "execution_count": 5,
   "metadata": {},
   "outputs": [
    {
     "name": "stdout",
     "output_type": "stream",
     "text": [
      "  % Total    % Received % Xferd  Average Speed   Time    Time     Time  Current\n",
      "                                 Dload  Upload   Total   Spent    Left  Speed\n",
      "100 2182M  100 2182M    0     0  10.9M      0  0:03:19  0:03:19 --:--:-- 10.8M10.8M\n"
     ]
    }
   ],
   "source": [
    "!curl -Lo data/fasttext-vectors/wiki.it.vec https://dl.fbaipublicfiles.com/fasttext/vectors-wiki/wiki.it.vec"
   ]
  },
  {
   "cell_type": "code",
   "execution_count": 1,
   "metadata": {},
   "outputs": [
    {
     "name": "stdout",
     "output_type": "stream",
     "text": [
      "  % Total    % Received % Xferd  Average Speed   Time    Time     Time  Current\n",
      "                                 Dload  Upload   Total   Spent    Left  Speed\n",
      "100  980M  100  980M    0     0  4536k      0  0:03:41  0:03:41 --:--:-- 4323k\n"
     ]
    }
   ],
   "source": [
    "!curl -Lo data/fasttext-vectors/eswiki_300d.txt 'http://wikipedia2vec.s3.amazonaws.com/models/es/2018-04-20/eswiki_20180420_300d.txt.bz2'"
   ]
  },
  {
   "cell_type": "code",
   "execution_count": null,
   "metadata": {},
   "outputs": [],
   "source": []
  },
  {
   "cell_type": "code",
   "execution_count": null,
   "metadata": {},
   "outputs": [],
   "source": []
  }
 ],
 "metadata": {
  "colab": {
   "authorship_tag": "ABX9TyNWWMYwdgLwbQkhE2o+1vZt",
   "name": "[train]download_w2v.ipynb",
   "provenance": []
  },
  "kernelspec": {
   "display_name": "Python (han)",
   "language": "python",
   "name": "han"
  },
  "language_info": {
   "codemirror_mode": {
    "name": "ipython",
    "version": 3
   },
   "file_extension": ".py",
   "mimetype": "text/x-python",
   "name": "python",
   "nbconvert_exporter": "python",
   "pygments_lexer": "ipython3",
   "version": "3.8.5"
  }
 },
 "nbformat": 4,
 "nbformat_minor": 2
}
